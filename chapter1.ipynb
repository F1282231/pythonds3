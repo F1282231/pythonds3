{
 "cells": [
  {
   "cell_type": "markdown",
   "metadata": {},
   "source": [
    "## 1.13.1 Fraction"
   ]
  },
  {
   "cell_type": "code",
   "execution_count": 1,
   "metadata": {},
   "outputs": [],
   "source": [
    "def gcd(m, n):\n",
    "    while m % n != 0:\n",
    "        m, n = n, m % n\n",
    "    return n"
   ]
  },
  {
   "cell_type": "code",
   "execution_count": 101,
   "metadata": {},
   "outputs": [],
   "source": [
    "class Fraction:\n",
    "    \"\"\"Class Fraction\"\"\"\n",
    "    def __init__(self, top, bottom):\n",
    "        \"\"\"Constructor definition\"\"\"\n",
    "        self.num = top\n",
    "        self.den = bottom\n",
    "        \n",
    "    def __str__(self):\n",
    "        return f'{self.num}/{self.den}'\n",
    "    \n",
    "    def __eq__(self, f1):\n",
    "        common = gcd(self.num, self.den)\n",
    "        common_f1 = gcd(f1.num, f1.den)\n",
    "        return (self.num // common) == (f1.num // common_f1) and (self.den // common) == (f1.den // common_f1)\n",
    "    \n",
    "    def __add__(self, f1):\n",
    "        new_num = f1.num * self.den + self.num * f1.den\n",
    "        new_den = f1.den * self.den\n",
    "        common = gcd(new_num, new_den)\n",
    "        return Fraction(new_num//common, new_den//common)\n",
    "    \n",
    "    def __sub__(self, f1):\n",
    "        new_num = f1.num * self.den - self.num * f1.den\n",
    "        new_den = f1.den * self.den\n",
    "        common = gcd(new_num, new_den)\n",
    "        return Fraction(new_num//common, new_den//common)\n",
    "    \n",
    "    def __mul__(self, f1):\n",
    "        new_num = f1.num * self.num\n",
    "        new_den = f1.den * self.den\n",
    "        common = gcd(new_num, new_den)\n",
    "        return Fraction(new_num//common, new_den//common)\n",
    "    \n",
    "    def __truediv__(self, f1):\n",
    "        new_num = f1.den * self.num\n",
    "        new_den = f1.num * self.den\n",
    "        common = gcd(new_num, new_den)\n",
    "        return Fraction(new_num//common, new_den//common)  \n",
    "    \n",
    "    def __lt__(self, f1):\n",
    "        return self.num * f1.den > f1.num * self.den\n",
    "        \n",
    "    def __gt__(self, f1):\n",
    "        return self.num * f1.den < f1.num * self.den\n",
    "    \n",
    "    def show(self):\n",
    "        print(f'{self.num}/{self.den}')\n",
    "        \n",
    "    def add(self, f1):\n",
    "        new_num = f1.num * self.den + self.num * f1.den\n",
    "        new_den = f1.den * self.den\n",
    "        common = gcd(new_num, new_den)\n",
    "        return Fraction(new_num//common, new_den//common)\n",
    "        "
   ]
  },
  {
   "cell_type": "code",
   "execution_count": 102,
   "metadata": {},
   "outputs": [],
   "source": [
    "x = Fraction(3, 5)\n",
    "y = Fraction(6, 10)\n",
    "k = Fraction(3, 1)"
   ]
  },
  {
   "cell_type": "code",
   "execution_count": 103,
   "metadata": {},
   "outputs": [
    {
     "name": "stdout",
     "output_type": "stream",
     "text": [
      "3/5\n"
     ]
    }
   ],
   "source": [
    "x.show()"
   ]
  },
  {
   "cell_type": "code",
   "execution_count": 104,
   "metadata": {},
   "outputs": [
    {
     "name": "stdout",
     "output_type": "stream",
     "text": [
      "3/5\n"
     ]
    }
   ],
   "source": [
    "print(x)"
   ]
  },
  {
   "cell_type": "code",
   "execution_count": 105,
   "metadata": {},
   "outputs": [],
   "source": [
    "z = x.add(y)"
   ]
  },
  {
   "cell_type": "code",
   "execution_count": 106,
   "metadata": {},
   "outputs": [
    {
     "name": "stdout",
     "output_type": "stream",
     "text": [
      "6/5\n"
     ]
    }
   ],
   "source": [
    "z.show()"
   ]
  },
  {
   "cell_type": "code",
   "execution_count": 107,
   "metadata": {},
   "outputs": [
    {
     "data": {
      "text/plain": [
       "True"
      ]
     },
     "execution_count": 107,
     "metadata": {},
     "output_type": "execute_result"
    }
   ],
   "source": [
    "x == y"
   ]
  },
  {
   "cell_type": "code",
   "execution_count": 121,
   "metadata": {},
   "outputs": [
    {
     "name": "stdout",
     "output_type": "stream",
     "text": [
      "3/5 6/10 3/1\n",
      "6/5\n",
      "0/1\n",
      "9/25\n",
      "1/1\n",
      "1/5\n",
      "False\n",
      "True\n",
      "False\n",
      "True\n",
      "False\n"
     ]
    }
   ],
   "source": [
    "print(x, y, k)\n",
    "\n",
    "print(x + y)\n",
    "\n",
    "print(x - y)\n",
    "\n",
    "print(x * y)\n",
    "\n",
    "print(x / y)\n",
    "\n",
    "print(x / k)\n",
    "\n",
    "print(x > y)\n",
    "\n",
    "print(x == y)\n",
    "\n",
    "print(x < y)\n",
    "\n",
    "print(x > k)\n",
    "\n",
    "print(x < k)"
   ]
  },
  {
   "cell_type": "code",
   "execution_count": null,
   "metadata": {},
   "outputs": [],
   "source": []
  }
 ],
 "metadata": {
  "kernelspec": {
   "display_name": "Python 3",
   "language": "python",
   "name": "python3"
  },
  "language_info": {
   "codemirror_mode": {
    "name": "ipython",
    "version": 3
   },
   "file_extension": ".py",
   "mimetype": "text/x-python",
   "name": "python",
   "nbconvert_exporter": "python",
   "pygments_lexer": "ipython3",
   "version": "3.7.7"
  }
 },
 "nbformat": 4,
 "nbformat_minor": 4
}
