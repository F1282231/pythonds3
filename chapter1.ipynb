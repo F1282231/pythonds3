{
 "cells": [
  {
   "cell_type": "markdown",
   "metadata": {},
   "source": [
    "## Fraction"
   ]
  },
  {
   "cell_type": "code",
   "execution_count": 1,
   "metadata": {},
   "outputs": [],
   "source": [
    "def gcd(m, n):\n",
    "    while m % n != 0:\n",
    "        m, n = n, m % n\n",
    "    return n"
   ]
  },
  {
   "cell_type": "code",
   "execution_count": 28,
   "metadata": {},
   "outputs": [],
   "source": [
    "class Fraction:\n",
    "    \"\"\"Class Fraction\"\"\"\n",
    "    def __init__(self, top, bottom):\n",
    "        \"\"\"Constructor definition\"\"\"\n",
    "        self.num = top\n",
    "        self.den = bottom\n",
    "        \n",
    "    def __str__(self):\n",
    "        return f'{self.num}/{self.den}'\n",
    "    \n",
    "    def __eq__(self, f1):\n",
    "        common = gcd(self.num, self.den)\n",
    "        common_f1 = gcd(f1.num, f1.den)\n",
    "        return (self.num // common) == (f1.num // common_f1) and (self.den // common) == (f1.den // common_f1)\n",
    "    \n",
    "    def show(self):\n",
    "        print(f'{self.num}/{self.den}')\n",
    "        \n",
    "    def add(self, f1):\n",
    "        new_num = f1.num * self.den + self.num * f1.den\n",
    "        new_den = f1.den * self.den\n",
    "        common = gcd(new_num, new_den)\n",
    "        return Fraction(new_num//common, new_den//common)\n",
    "        "
   ]
  },
  {
   "cell_type": "code",
   "execution_count": 35,
   "metadata": {},
   "outputs": [],
   "source": [
    "x = Fraction(3, 5)\n",
    "y = Fraction(6, 10)"
   ]
  },
  {
   "cell_type": "code",
   "execution_count": 36,
   "metadata": {},
   "outputs": [
    {
     "name": "stdout",
     "output_type": "stream",
     "text": [
      "3/5\n"
     ]
    }
   ],
   "source": [
    "x.show()"
   ]
  },
  {
   "cell_type": "code",
   "execution_count": 37,
   "metadata": {},
   "outputs": [
    {
     "name": "stdout",
     "output_type": "stream",
     "text": [
      "3/5\n"
     ]
    }
   ],
   "source": [
    "print(x)"
   ]
  },
  {
   "cell_type": "code",
   "execution_count": 38,
   "metadata": {},
   "outputs": [],
   "source": [
    "z = x.add(y)"
   ]
  },
  {
   "cell_type": "code",
   "execution_count": 39,
   "metadata": {},
   "outputs": [
    {
     "name": "stdout",
     "output_type": "stream",
     "text": [
      "6/5\n"
     ]
    }
   ],
   "source": [
    "z.show()"
   ]
  },
  {
   "cell_type": "code",
   "execution_count": 40,
   "metadata": {},
   "outputs": [
    {
     "data": {
      "text/plain": [
       "True"
      ]
     },
     "execution_count": 40,
     "metadata": {},
     "output_type": "execute_result"
    }
   ],
   "source": [
    "x == y"
   ]
  },
  {
   "cell_type": "code",
   "execution_count": null,
   "metadata": {},
   "outputs": [],
   "source": []
  }
 ],
 "metadata": {
  "kernelspec": {
   "display_name": "Python 3",
   "language": "python",
   "name": "python3"
  },
  "language_info": {
   "codemirror_mode": {
    "name": "ipython",
    "version": 3
   },
   "file_extension": ".py",
   "mimetype": "text/x-python",
   "name": "python",
   "nbconvert_exporter": "python",
   "pygments_lexer": "ipython3",
   "version": "3.7.7"
  }
 },
 "nbformat": 4,
 "nbformat_minor": 4
}
